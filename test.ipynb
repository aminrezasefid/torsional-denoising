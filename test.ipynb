{
 "cells": [
  {
   "cell_type": "code",
   "execution_count": 1,
   "metadata": {},
   "outputs": [],
   "source": [
    "import numpy as np\n",
    "import tqdm\n"
   ]
  },
  {
   "cell_type": "code",
   "execution_count": 2,
   "metadata": {},
   "outputs": [],
   "source": [
    "def p(x, sigma, N=10):\n",
    "    p_ = 0\n",
    "    for i in tqdm.trange(-N, N + 1):\n",
    "        p_ += np.exp(-(x + 2 * np.pi * i) ** 2 / 2 / sigma ** 2)\n",
    "    return p_\n",
    "\n",
    "\n",
    "def grad(x, sigma, N=10):\n",
    "    p_ = 0\n",
    "    for i in tqdm.trange(-N, N + 1):\n",
    "        p_ += (x + 2 * np.pi * i) / sigma ** 2 * np.exp(-(x + 2 * np.pi * i) ** 2 / 2 / sigma ** 2)\n",
    "    return p_"
   ]
  },
  {
   "cell_type": "code",
   "execution_count": 3,
   "metadata": {},
   "outputs": [],
   "source": [
    "X_MIN, X_N = 1e-5, 5  # relative to pi\n",
    "SIGMA_MIN, SIGMA_MAX, SIGMA_N = 3e-3, 2, 5  # relative to pi"
   ]
  },
  {
   "cell_type": "code",
   "execution_count": 6,
   "metadata": {},
   "outputs": [],
   "source": [
    "x = np.linspace(-6, -1, 6)\n",
    "sigma =np.linspace(2, 12, 6) "
   ]
  },
  {
   "cell_type": "code",
   "execution_count": 7,
   "metadata": {},
   "outputs": [
    {
     "data": {
      "text/plain": [
       "array([-6., -5., -4., -3., -2., -1.])"
      ]
     },
     "execution_count": 7,
     "metadata": {},
     "output_type": "execute_result"
    }
   ],
   "source": [
    "x"
   ]
  },
  {
   "cell_type": "code",
   "execution_count": 8,
   "metadata": {},
   "outputs": [
    {
     "name": "stderr",
     "output_type": "stream",
     "text": [
      "100%|██████████| 201/201 [00:00<00:00, 66882.59it/s]\n",
      "100%|██████████| 201/201 [00:00<00:00, 28801.72it/s]\n"
     ]
    }
   ],
   "source": [
    "p_ = p(x, sigma[:, None], N=100)\n",
    "score_ = grad(x, sigma[:, None], N=100) / p_"
   ]
  },
  {
   "cell_type": "code",
   "execution_count": 9,
   "metadata": {},
   "outputs": [
    {
     "data": {
      "text/plain": [
       "array([[ 6.05730143e-02,  2.41849690e-01,  2.47292231e-01,\n",
       "        -5.16214655e-02, -2.76353830e-01, -1.99815564e-01],\n",
       "       [ 1.87346226e-04,  6.43244095e-04,  5.07980681e-04,\n",
       "        -9.47439074e-05, -6.10240990e-04, -5.64359554e-04],\n",
       "       [ 8.51098452e-09,  2.92087943e-08,  2.30521738e-08,\n",
       "        -4.29850986e-09, -2.76971631e-08, -2.56311717e-08],\n",
       "       [ 7.07667135e-15,  2.42861474e-14,  1.91625137e-14,\n",
       "        -3.57381024e-15, -2.30290050e-14, -2.13088830e-14],\n",
       "       [ 5.94668721e-18,  3.40868529e-18,  5.84240296e-18,\n",
       "        -7.57091989e-18,  9.61344074e-18, -2.62786252e-18],\n",
       "       [ 3.14902572e-18, -4.83384200e-19,  5.99473034e-19,\n",
       "        -4.37547521e-18,  5.66237703e-18,  6.80714086e-18]])"
      ]
     },
     "execution_count": 9,
     "metadata": {},
     "output_type": "execute_result"
    }
   ],
   "source": [
    "score_"
   ]
  },
  {
   "cell_type": "code",
   "execution_count": 10,
   "metadata": {},
   "outputs": [],
   "source": [
    "x = (x + np.pi) % (2 * np.pi) - np.pi\n",
    "sign = np.sign(x)\n",
    "x = np.log(np.abs(x) / np.pi)\n",
    "x = (x - np.log(X_MIN)) / (0 - np.log(X_MIN)) * X_N\n",
    "x = np.round(np.clip(x, 0, X_N)).astype(int)\n",
    "sigma = np.log(sigma / np.pi)\n",
    "sigma = (sigma - np.log(SIGMA_MIN)) / (np.log(SIGMA_MAX) - np.log(SIGMA_MIN)) * SIGMA_N\n",
    "sigma = np.round(np.clip(sigma, 0, SIGMA_N)).astype(int)\n"
   ]
  },
  {
   "cell_type": "code",
   "execution_count": 11,
   "metadata": {},
   "outputs": [
    {
     "data": {
      "text/plain": [
       "array([4, 5, 5, 5, 5, 5])"
      ]
     },
     "execution_count": 11,
     "metadata": {},
     "output_type": "execute_result"
    }
   ],
   "source": [
    "x"
   ]
  },
  {
   "cell_type": "code",
   "execution_count": 12,
   "metadata": {},
   "outputs": [
    {
     "data": {
      "text/plain": [
       "array([4, 5, 5, 5, 5, 5])"
      ]
     },
     "execution_count": 12,
     "metadata": {},
     "output_type": "execute_result"
    }
   ],
   "source": [
    "sigma"
   ]
  },
  {
   "cell_type": "code",
   "execution_count": 13,
   "metadata": {},
   "outputs": [
    {
     "data": {
      "text/plain": [
       "array([ 1.,  1.,  1., -1., -1., -1.])"
      ]
     },
     "execution_count": 13,
     "metadata": {},
     "output_type": "execute_result"
    }
   ],
   "source": [
    "sign"
   ]
  },
  {
   "cell_type": "code",
   "execution_count": 17,
   "metadata": {},
   "outputs": [],
   "source": [
    "ret=-sign * score_[sigma, x]"
   ]
  },
  {
   "cell_type": "code",
   "execution_count": 19,
   "metadata": {},
   "outputs": [
    {
     "data": {
      "text/plain": [
       "array([-9.61344074e-18, -6.80714086e-18, -6.80714086e-18,  6.80714086e-18,\n",
       "        6.80714086e-18,  6.80714086e-18])"
      ]
     },
     "execution_count": 19,
     "metadata": {},
     "output_type": "execute_result"
    }
   ],
   "source": [
    "ret"
   ]
  },
  {
   "cell_type": "code",
   "execution_count": 21,
   "metadata": {},
   "outputs": [
    {
     "data": {
      "text/plain": [
       "array([9.24182429e-35, 4.63371667e-35, 4.63371667e-35, 4.63371667e-35,\n",
       "       4.63371667e-35, 4.63371667e-35])"
      ]
     },
     "execution_count": 21,
     "metadata": {},
     "output_type": "execute_result"
    }
   ],
   "source": [
    "ret**2"
   ]
  },
  {
   "cell_type": "code",
   "execution_count": 20,
   "metadata": {},
   "outputs": [
    {
     "data": {
      "text/plain": [
       "5.40173460841444e-35"
      ]
     },
     "execution_count": 20,
     "metadata": {},
     "output_type": "execute_result"
    }
   ],
   "source": [
    "(ret ** 2).mean(0)"
   ]
  },
  {
   "cell_type": "code",
   "execution_count": 16,
   "metadata": {},
   "outputs": [
    {
     "data": {
      "text/plain": [
       "array([9.61344074e-18, 9.61344074e-18, 9.61344074e-18, 9.61344074e-18,\n",
       "       9.61344074e-18])"
      ]
     },
     "execution_count": 16,
     "metadata": {},
     "output_type": "execute_result"
    }
   ],
   "source": [
    "score_[[4,4,4,4,4],[4,4,4,4,4]]"
   ]
  },
  {
   "cell_type": "code",
   "execution_count": 59,
   "metadata": {},
   "outputs": [
    {
     "data": {
      "text/plain": [
       "array([-2.40638369, -0.89538438, -0.31915835, -0.0461176 , -0.45158271,\n",
       "       -1.14472989])"
      ]
     },
     "execution_count": 59,
     "metadata": {},
     "output_type": "execute_result"
    }
   ],
   "source": [
    "sign = np.sign(x)\n",
    "x = np.log(np.abs(x) / np.pi)\n",
    "x"
   ]
  },
  {
   "cell_type": "code",
   "execution_count": 60,
   "metadata": {},
   "outputs": [
    {
     "data": {
      "text/plain": [
       "array([3.95492084, 4.61113951, 4.86139129, 4.97997138, 4.80388012,\n",
       "       4.50285013])"
      ]
     },
     "execution_count": 60,
     "metadata": {},
     "output_type": "execute_result"
    }
   ],
   "source": [
    "x = (x - np.log(X_MIN)) / (0 - np.log(X_MIN)) * X_N\n",
    "x"
   ]
  },
  {
   "cell_type": "code",
   "execution_count": 62,
   "metadata": {},
   "outputs": [
    {
     "data": {
      "text/plain": [
       "array([3.95492084, 4.61113951, 4.86139129, 4.97997138, 4.80388012,\n",
       "       4.50285013])"
      ]
     },
     "execution_count": 62,
     "metadata": {},
     "output_type": "execute_result"
    }
   ],
   "source": [
    "np.clip(x, 0, X_N)"
   ]
  },
  {
   "cell_type": "code",
   "execution_count": 61,
   "metadata": {},
   "outputs": [
    {
     "data": {
      "text/plain": [
       "array([4, 5, 5, 5, 5, 5])"
      ]
     },
     "execution_count": 61,
     "metadata": {},
     "output_type": "execute_result"
    }
   ],
   "source": [
    "np.round(np.clip(x, 0, X_N)).astype(int)"
   ]
  },
  {
   "cell_type": "code",
   "execution_count": 35,
   "metadata": {},
   "outputs": [],
   "source": [
    "x=12\n",
    "X_MIN=5\n",
    "X_N=12"
   ]
  },
  {
   "cell_type": "code",
   "execution_count": 36,
   "metadata": {},
   "outputs": [
    {
     "data": {
      "text/plain": [
       "-77.47223057658411"
      ]
     },
     "execution_count": 36,
     "metadata": {},
     "output_type": "execute_result"
    }
   ],
   "source": [
    "(x - np.log(X_MIN)) / (0 - np.log(X_MIN)) * X_N"
   ]
  },
  {
   "cell_type": "code",
   "execution_count": 7,
   "metadata": {},
   "outputs": [
    {
     "data": {
      "text/plain": [
       "(6,)"
      ]
     },
     "execution_count": 7,
     "metadata": {},
     "output_type": "execute_result"
    }
   ],
   "source": [
    "sigma2.shape"
   ]
  },
  {
   "cell_type": "code",
   "execution_count": 15,
   "metadata": {},
   "outputs": [
    {
     "data": {
      "text/plain": [
       "array([[ 2.,  4.,  6.,  8., 10., 12.]])"
      ]
     },
     "execution_count": 15,
     "metadata": {},
     "output_type": "execute_result"
    }
   ],
   "source": [
    "sigma2[None]"
   ]
  },
  {
   "cell_type": "code",
   "execution_count": 19,
   "metadata": {},
   "outputs": [],
   "source": [
    "sigma=sigma2[None].repeat(10, 0).flatten()"
   ]
  },
  {
   "cell_type": "code",
   "execution_count": 31,
   "metadata": {},
   "outputs": [
    {
     "name": "stdout",
     "output_type": "stream",
     "text": [
      "[ 2.57773054 -4.27561362 -1.62834422]\n",
      "[ 2.57773054  2.00757169 -1.62834422]\n"
     ]
    }
   ],
   "source": [
    "out = sigma[:3] * np.random.randn(*sigma[:3].shape)\n",
    "print(out)\n",
    "\n",
    "out = (out + np.pi) % (2 * np.pi) - np.pi\n",
    "print(out)\n"
   ]
  },
  {
   "cell_type": "code",
   "execution_count": 27,
   "metadata": {},
   "outputs": [
    {
     "data": {
      "text/plain": [
       "(60,)"
      ]
     },
     "execution_count": 27,
     "metadata": {},
     "output_type": "execute_result"
    }
   ],
   "source": [
    "np.random.randn(*sigma.shape).shape"
   ]
  },
  {
   "cell_type": "code",
   "execution_count": 25,
   "metadata": {},
   "outputs": [],
   "source": [
    "sigma=sigma[:, None]"
   ]
  },
  {
   "cell_type": "code",
   "execution_count": 28,
   "metadata": {},
   "outputs": [],
   "source": [
    "p_ = 0\n",
    "p_ += np.exp(-(x + 2 * np.pi * -2) ** 2 / 2 / sigma ** 2)\n"
   ]
  },
  {
   "cell_type": "code",
   "execution_count": 30,
   "metadata": {},
   "outputs": [
    {
     "data": {
      "text/plain": [
       "array([[1., 1., 1., 1., 1., 1.],\n",
       "       [1., 1., 1., 1., 1., 1.],\n",
       "       [1., 1., 1., 1., 1., 1.],\n",
       "       [1., 1., 1., 1., 1., 1.],\n",
       "       [1., 1., 1., 1., 1., 1.],\n",
       "       [1., 1., 1., 1., 1., 1.]])"
      ]
     },
     "execution_count": 30,
     "metadata": {},
     "output_type": "execute_result"
    }
   ],
   "source": [
    "p_/p_"
   ]
  },
  {
   "cell_type": "code",
   "execution_count": 2,
   "metadata": {},
   "outputs": [],
   "source": [
    "import math, os, torch, yaml\n",
    "torch.multiprocessing.set_sharing_strategy('file_system')\n",
    "import numpy as np\n",
    "from rdkit import RDLogger\n",
    "import json\n",
    "import torch\n"
   ]
  },
  {
   "cell_type": "code",
   "execution_count": 3,
   "metadata": {},
   "outputs": [],
   "source": [
    "train_loader=torch.load(\"train_loader.pt\")"
   ]
  },
  {
   "cell_type": "code",
   "execution_count": 13,
   "metadata": {},
   "outputs": [
    {
     "data": {
      "text/plain": [
       "1"
      ]
     },
     "execution_count": 13,
     "metadata": {},
     "output_type": "execute_result"
    }
   ],
   "source": [
    "train_loader.dataset[0].mol.GetNumConformers()"
   ]
  },
  {
   "cell_type": "code",
   "execution_count": 44,
   "metadata": {},
   "outputs": [
    {
     "data": {
      "text/plain": [
       "array([array([ 18599, 122344,   6349, ...,   3518, 122516,  35788], dtype=int64),\n",
       "       array([118643,  22749,  67259, ...,  86870,  24420,  98744], dtype=int64),\n",
       "       array([ 55589,  34538, 107691, ..., 107540, 119440,  45002], dtype=int64)],\n",
       "      dtype=object)"
      ]
     },
     "execution_count": 44,
     "metadata": {},
     "output_type": "execute_result"
    }
   ],
   "source": [
    "split"
   ]
  },
  {
   "cell_type": "code",
   "execution_count": 49,
   "metadata": {},
   "outputs": [],
   "source": [
    "split[0]=np.random.choice(split[0],100)"
   ]
  },
  {
   "cell_type": "code",
   "execution_count": 51,
   "metadata": {},
   "outputs": [],
   "source": [
    "np.save(\"data/QM9/split.npy\",split)"
   ]
  },
  {
   "cell_type": "code",
   "execution_count": null,
   "metadata": {},
   "outputs": [],
   "source": []
  }
 ],
 "metadata": {
  "kernelspec": {
   "display_name": "pvd",
   "language": "python",
   "name": "python3"
  },
  "language_info": {
   "codemirror_mode": {
    "name": "ipython",
    "version": 3
   },
   "file_extension": ".py",
   "mimetype": "text/x-python",
   "name": "python",
   "nbconvert_exporter": "python",
   "pygments_lexer": "ipython3",
   "version": "3.9.10"
  },
  "orig_nbformat": 4
 },
 "nbformat": 4,
 "nbformat_minor": 2
}
